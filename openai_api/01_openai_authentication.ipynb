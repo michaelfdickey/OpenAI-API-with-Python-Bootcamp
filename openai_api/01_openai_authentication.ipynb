{
 "cells": [
  {
   "cell_type": "code",
   "execution_count": 4,
   "id": "701d2960",
   "metadata": {},
   "outputs": [
    {
     "name": "stderr",
     "output_type": "stream",
     "text": [
      "\n",
      "[notice] A new release of pip available: 22.3.1 -> 23.0.1\n",
      "[notice] To update, run: python.exe -m pip install --upgrade pip\n"
     ]
    }
   ],
   "source": [
    "!pip install -q openai\n",
    "import openai\n",
    "import os\n",
    "\n"
   ]
  },
  {
   "cell_type": "code",
   "execution_count": 6,
   "id": "4d9eafab",
   "metadata": {},
   "outputs": [
    {
     "name": "stdout",
     "output_type": "stream",
     "text": [
      "Paste your API key: ········\n"
     ]
    }
   ],
   "source": [
    "#os.environ['x'] = 'abc'\n",
    "#os.getenv('x')\n",
    "#os.environ['OPENAI_API_KEY'] = '....'\n",
    "#openai.api_key = os.getenv('OPENAI_API_KEY')\n",
    "\n",
    "import getpass\n",
    "key = getpass.getpass('Paste your API key: ')\n",
    "openai.api_key = key\n"
   ]
  }
 ],
 "metadata": {
  "kernelspec": {
   "display_name": "Python 3 (ipykernel)",
   "language": "python",
   "name": "python3"
  },
  "language_info": {
   "codemirror_mode": {
    "name": "ipython",
    "version": 3
   },
   "file_extension": ".py",
   "mimetype": "text/x-python",
   "name": "python",
   "nbconvert_exporter": "python",
   "pygments_lexer": "ipython3",
   "version": "3.11.2"
  }
 },
 "nbformat": 4,
 "nbformat_minor": 5
}
